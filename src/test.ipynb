{
 "cells": [
  {
   "cell_type": "code",
   "execution_count": 1,
   "metadata": {},
   "outputs": [
    {
     "name": "stderr",
     "output_type": "stream",
     "text": [
      "/home/jackson/miniconda3/envs/whisper/lib/python3.9/site-packages/tqdm/auto.py:22: TqdmWarning: IProgress not found. Please update jupyter and ipywidgets. See https://ipywidgets.readthedocs.io/en/stable/user_install.html\n",
      "  from .autonotebook import tqdm as notebook_tqdm\n"
     ]
    }
   ],
   "source": [
    "import whisper\n",
    "import moviepy.editor as mp"
   ]
  },
  {
   "cell_type": "code",
   "execution_count": null,
   "metadata": {},
   "outputs": [],
   "source": [
    "def perform_speech_to_text(video_path):\n",
    "\n",
    "    # create file name for audio\n",
    "    audio_file = video_path.split('.')[0]\n",
    "    audio_file = f'{audio_file}.wav'\n",
    "\n",
    "    # split audio from video file\n",
    "    clip = mp.VideoFileClip(video_path)\n",
    "    clip.audio.write_audiofile(audio_file)\n",
    "\n",
    "    # load speech to text model\n",
    "    model = whisper.load_model('base', device='cpu')\n",
    "\n",
    "    # detect language\n",
    "    audio = whisper.load_audio(audio_file)\n",
    "    audio = whisper.pad_or_trim(audio)\n",
    "    mel = whisper.log_mel_spectrogram(audio).to(model.device)\n",
    "    _, probs = model.detect_language(mel)\n",
    "    language = {max(probs, key=probs.get)}\n",
    "\n",
    "    # if language not english, translate to english\n",
    "    if language != {'en'}:\n",
    "        options = dict(beam_size=5, best_of=5)\n",
    "        translate_options = dict(task='translate', **options)\n",
    "        result = model.transcribe(audio_file, **translate_options)\n",
    "        return result\n",
    "    else:\n",
    "        result = model.transcribe(audio_file)\n",
    "        return result"
   ]
  },
  {
   "cell_type": "code",
   "execution_count": null,
   "metadata": {},
   "outputs": [],
   "source": [
    "perform_speech_to_text('5q5kjonoxb0_0_60.mp4')"
   ]
  }
 ],
 "metadata": {
  "kernelspec": {
   "display_name": "Python 3.9.15 ('whisper')",
   "language": "python",
   "name": "python3"
  },
  "language_info": {
   "codemirror_mode": {
    "name": "ipython",
    "version": 3
   },
   "file_extension": ".py",
   "mimetype": "text/x-python",
   "name": "python",
   "nbconvert_exporter": "python",
   "pygments_lexer": "ipython3",
   "version": "3.9.15"
  },
  "orig_nbformat": 4,
  "vscode": {
   "interpreter": {
    "hash": "779cb204b5fd414affa709807b53cc19b34dcf50a0899e69b09d4e9a198b128f"
   }
  }
 },
 "nbformat": 4,
 "nbformat_minor": 2
}
