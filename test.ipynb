{
 "cells": [
  {
   "cell_type": "code",
   "execution_count": 1,
   "metadata": {},
   "outputs": [
    {
     "name": "stderr",
     "output_type": "stream",
     "text": [
      "/home/jackson/miniconda3/envs/whisper/lib/python3.9/site-packages/tqdm/auto.py:22: TqdmWarning: IProgress not found. Please update jupyter and ipywidgets. See https://ipywidgets.readthedocs.io/en/stable/user_install.html\n",
      "  from .autonotebook import tqdm as notebook_tqdm\n"
     ]
    }
   ],
   "source": [
    "import whisper\n",
    "import moviepy.editor as mp\n",
    "import json"
   ]
  },
  {
   "cell_type": "code",
   "execution_count": 2,
   "metadata": {},
   "outputs": [
    {
     "name": "stdout",
     "output_type": "stream",
     "text": [
      "MoviePy - Writing audio in marcus-woods-eq-11-14-2022.wav\n"
     ]
    },
    {
     "name": "stderr",
     "output_type": "stream",
     "text": [
      "                                                                        \r"
     ]
    },
    {
     "name": "stdout",
     "output_type": "stream",
     "text": [
      "MoviePy - Done.\n"
     ]
    }
   ],
   "source": [
    "video_id = 'marcus-woods-eq-11-14-2022.mp4'\n",
    "\n",
    "output = []\n",
    "\n",
    "# create file name for audio\n",
    "audio_file = video_id.split('.')[0]\n",
    "audio_file = f'{audio_file}.wav'\n",
    "\n",
    "# split audio from video file\n",
    "clip = mp.VideoFileClip(video_id)\n",
    "clip.audio.write_audiofile(audio_file)\n",
    "\n",
    "# load speech to text model\n",
    "model = whisper.load_model('medium')\n",
    "result = model.transcribe(audio_file)\n",
    "\n",
    "output.append({\n",
    "    'text': result['text']\n",
    "})\n"
   ]
  },
  {
   "cell_type": "code",
   "execution_count": null,
   "metadata": {},
   "outputs": [],
   "source": [
    "with open('marcus-woods-eq-11-14-2022-transcribed.json', 'w+') as file:\n",
    "    json.dump(output, file)"
   ]
  }
 ],
 "metadata": {
  "kernelspec": {
   "display_name": "Python 3.9.15 ('whisper')",
   "language": "python",
   "name": "python3"
  },
  "language_info": {
   "codemirror_mode": {
    "name": "ipython",
    "version": 3
   },
   "file_extension": ".py",
   "mimetype": "text/x-python",
   "name": "python",
   "nbconvert_exporter": "python",
   "pygments_lexer": "ipython3",
   "version": "3.9.15"
  },
  "orig_nbformat": 4,
  "vscode": {
   "interpreter": {
    "hash": "779cb204b5fd414affa709807b53cc19b34dcf50a0899e69b09d4e9a198b128f"
   }
  }
 },
 "nbformat": 4,
 "nbformat_minor": 2
}
