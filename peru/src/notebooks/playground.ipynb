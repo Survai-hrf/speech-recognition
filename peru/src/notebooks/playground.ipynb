{
 "cells": [
  {
   "cell_type": "code",
   "execution_count": 10,
   "metadata": {},
   "outputs": [],
   "source": [
    "import os\n",
    "import csv"
   ]
  },
  {
   "cell_type": "code",
   "execution_count": 7,
   "metadata": {},
   "outputs": [
    {
     "name": "stdout",
     "output_type": "stream",
     "text": [
      "Smith_Derek_Joseph.wav\n",
      "Jackson_Shinpaugh_Resume (1).wav\n",
      "TFB_database_schema.wav\n",
      "Jackson_Shinpaugh_Data_Analyst_Cover_Letter.wav\n",
      "Sisenstein_Alexander_Nicholai .wav\n",
      "Smith_Derek_Joseph (1).wav\n",
      "1KXQMDi9wEdcCB1oBVs_oZnnvFKwYv9em.wav\n",
      "Jackson_Shinpaugh_Resume.wav\n",
      "Jackson_Shinpaugh_Data_Analyst_Cover_Letter (1).wav\n"
     ]
    }
   ],
   "source": [
    "# make list of files\n",
    "dir = 'Downloads'\n",
    "files = os.listdir(dir)\n",
    "\n",
    "for file in files:\n",
    "    file_path = f\"{dir}/{file}\"\n",
    "    audio_file = os.path.basename(file_path)\n",
    "    audio_file = f\"{os.path.splitext(audio_file)[0]}.wav\"\n",
    "    print(audio_file)"
   ]
  },
  {
   "cell_type": "code",
   "execution_count": 11,
   "metadata": {},
   "outputs": [
    {
     "name": "stdout",
     "output_type": "stream",
     "text": [
      "{'Content ID': 'cramp.mp4', 'Link': 'https://www.youtube.com/results?search_query=cramp'}\n",
      "{'Content ID': 'pants.mp4', 'Link': 'https://www.youtube.com/results?search_query=pants'}\n",
      "{'Content ID': 'cherry.mp4', 'Link': 'https://www.youtube.com/results?search_query=cherry'}\n"
     ]
    }
   ],
   "source": [
    "with open('Spit.csv', newline='') as csvfile:\n",
    "    reader = csv.DictReader(csvfile)\n",
    "    for row in reader:\n",
    "        print(row)"
   ]
  }
 ],
 "metadata": {
  "kernelspec": {
   "display_name": "Python 3.9.16 ('gdrive_scrape')",
   "language": "python",
   "name": "python3"
  },
  "language_info": {
   "codemirror_mode": {
    "name": "ipython",
    "version": 3
   },
   "file_extension": ".py",
   "mimetype": "text/x-python",
   "name": "python",
   "nbconvert_exporter": "python",
   "pygments_lexer": "ipython3",
   "version": "3.9.16"
  },
  "orig_nbformat": 4,
  "vscode": {
   "interpreter": {
    "hash": "63356e18188c28ce8a6cf7f741f53f596f85294ac858c28defce1736194be445"
   }
  }
 },
 "nbformat": 4,
 "nbformat_minor": 2
}
