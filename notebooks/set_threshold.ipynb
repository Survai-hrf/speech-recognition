{
 "cells": [
  {
   "cell_type": "code",
   "execution_count": 2,
   "metadata": {},
   "outputs": [
    {
     "name": "stderr",
     "output_type": "stream",
     "text": [
      "/home/jackson/miniconda3/envs/whisper/lib/python3.9/site-packages/tqdm/auto.py:22: TqdmWarning: IProgress not found. Please update jupyter and ipywidgets. See https://ipywidgets.readthedocs.io/en/stable/user_install.html\n",
      "  from .autonotebook import tqdm as notebook_tqdm\n"
     ]
    }
   ],
   "source": [
    "import whisper\n",
    "import json\n",
    "import moviepy.editor as mp\n",
    "import os"
   ]
  },
  {
   "cell_type": "code",
   "execution_count": 3,
   "metadata": {},
   "outputs": [],
   "source": [
    "with open(\"test_dataset.json\") as file:\n",
    "    ground_truth = json.load(file)\n",
    "\n",
    "video_paths = list(ground_truth.keys())"
   ]
  },
  {
   "cell_type": "code",
   "execution_count": null,
   "metadata": {},
   "outputs": [],
   "source": [
    "# load model\n",
    "model = whisper.load_model('medium')\n",
    "\n",
    "for video in video_paths:\n",
    "    # store ground_truth data in variable\n",
    "    info = ground_truth.get(video)\n",
    "    truth = info.get('language')\n",
    "    print(truth)\n",
    "\n",
    "    # load video and split audio\n",
    "    audio_file = f'{os.path.basename(video)}.wav'\n",
    "    clip = mp.VideoFileClip(video)\n",
    "    clip.audio.write_audiofile(audio_file)\n",
    "\n",
    "    # load audio and detect language\n",
    "    audio = whisper.load_audio(audio_file)\n",
    "    audio = whisper.pad_or_trim(audio)\n",
    "    mel = whisper.log_mel_spectrogram(audio).to(model.device)\n",
    "    _, probs = model.detect_language(mel)\n",
    "    language = max(probs, key=probs.get)\n",
    "    print(language)\n",
    "    print(probs.get(language))\n",
    "\n",
    "    # add data to dictionary\n",
    "    ground_truth[video]['detected_language'] = language\n",
    "    ground_truth[video]['confidence'] = probs.get(language)\n",
    "\n",
    "    if truth == language:\n",
    "        ground_truth[video]['correct'] = True\n",
    "    else:\n",
    "        ground_truth[video]['correct'] = False\n",
    "\n",
    "    # remove audio file\n",
    "    os.remove(audio_file)"
   ]
  },
  {
   "cell_type": "code",
   "execution_count": 13,
   "metadata": {},
   "outputs": [
    {
     "data": {
      "text/plain": [
       "[0.13250073790550232,\n",
       " 0.5220446586608887,\n",
       " 0.5541367530822754,\n",
       " 0.5270262956619263,\n",
       " 0.21682201325893402]"
      ]
     },
     "execution_count": 13,
     "metadata": {},
     "output_type": "execute_result"
    }
   ],
   "source": [
    "# find average confidence of all failed detections\n",
    "confidence_scores = []\n",
    "\n",
    "for video, data in ground_truth.items():\n",
    "    if data['correct'] == False:\n",
    "        confidence_scores.append(data['confidence'])\n",
    "\n",
    "confidence_scores\n"
   ]
  },
  {
   "cell_type": "code",
   "execution_count": 6,
   "metadata": {},
   "outputs": [],
   "source": [
    "# export to json\n",
    "with open(\"results.json\", \"w+\") as file:\n",
    "    json.dump(ground_truth, file)"
   ]
  }
 ],
 "metadata": {
  "kernelspec": {
   "display_name": "Python 3.9.15 ('whisper')",
   "language": "python",
   "name": "python3"
  },
  "language_info": {
   "codemirror_mode": {
    "name": "ipython",
    "version": 3
   },
   "file_extension": ".py",
   "mimetype": "text/x-python",
   "name": "python",
   "nbconvert_exporter": "python",
   "pygments_lexer": "ipython3",
   "version": "3.9.15"
  },
  "orig_nbformat": 4,
  "vscode": {
   "interpreter": {
    "hash": "779cb204b5fd414affa709807b53cc19b34dcf50a0899e69b09d4e9a198b128f"
   }
  }
 },
 "nbformat": 4,
 "nbformat_minor": 2
}
